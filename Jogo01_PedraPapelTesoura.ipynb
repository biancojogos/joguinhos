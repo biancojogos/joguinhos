{
 "cells": [
  {
   "cell_type": "markdown",
   "metadata": {},
   "source": [
    "## PRIMEIRO JOGO: PEDRA PAPEL E TESOURA - 24.03.20"
   ]
  },
  {
   "cell_type": "code",
   "execution_count": 357,
   "metadata": {},
   "outputs": [],
   "source": [
    "def recolher_nome():\n",
    "    nome = input(f'Ola, qual o seu nome? ')\n",
    "    nome = validar_nome(nome)\n",
    "\n",
    "    print(f'Muito prazer, {nome}! \\n')\n",
    "    return nome"
   ]
  },
  {
   "cell_type": "code",
   "execution_count": 358,
   "metadata": {},
   "outputs": [],
   "source": [
    "def boas_vindas():\n",
    "    print('Bem vindos(as)! \\n')\n",
    "    \n",
    "    print('Primeiramente, preciso saber mais sobre o Primeiro Jogador')\n",
    "    nome1 = recolher_nome() #primeiro nome\n",
    "    \n",
    "    print('Agora, preciso saber mais sobre o Segundo Jogador')\n",
    "    nome2 = recolher_nome() #segundo nome\n",
    "    \n",
    "    print('Vamos agora para o inicio do jogo!')\n",
    "    \n",
    "    return [nome1, nome2]"
   ]
  },
  {
   "cell_type": "code",
   "execution_count": 359,
   "metadata": {},
   "outputs": [],
   "source": [
    "def escolha_opcao(jogador,opcoes): #000\n",
    "    \n",
    "    escolha = input('Escolha uma das opcoes, {}: (1) {}, (2) {}, (3) {} \\n'.format(jogador, opcoes['1'], opcoes['2'], opcoes['3']))\n",
    "    \n",
    "    # Validacao do input\n",
    "    try: # Caso seja um inteiro\n",
    "        escolha = validar_numero(int(escolha))\n",
    "    except ValueError: # Caso nao seja um inteiro\n",
    "        escolha = validar_numero(0)\n",
    "    \n",
    "    #ble = f'{escolha}'\n",
    "    #bla = 'Ok! Escolha do jogador {}: {}!'.format(jogador, opcoes[f'{escolha}'])\n",
    "    print('Ok! Escolha do jogador {}: {}!'.format(jogador, opcoes[f'{escolha}']))\n",
    "    return opcoes[f'{escolha}']"
   ]
  },
  {
   "cell_type": "code",
   "execution_count": 360,
   "metadata": {},
   "outputs": [],
   "source": [
    "def validar_numero(x):\n",
    "    if x in [1,2,3]: # Caso seja uma das opcoes validas\n",
    "        return x\n",
    "    else: # Caso nao seja uma das opcoes validas\n",
    "        y = input('Ops. Digite novamente: ')\n",
    "        try: # Caso seja um inteiro\n",
    "            return validar_numero(int(y))\n",
    "        except ValueError: # Caso nao seja um inteiro\n",
    "            return validar_numero(y)"
   ]
  },
  {
   "cell_type": "code",
   "execution_count": 361,
   "metadata": {},
   "outputs": [],
   "source": [
    "def validar_nome(x):\n",
    "    if x != \"\": # Caso nao seja um vazio\n",
    "        return x\n",
    "    else: # Caso seja um vazio\n",
    "        y = input('Ops. Voce digitou um campo vazio. Digite novamente: ')\n",
    "        return validar_nome(y)"
   ]
  },
  {
   "cell_type": "code",
   "execution_count": 362,
   "metadata": {},
   "outputs": [],
   "source": [
    "def opcoes_de_escolha():\n",
    "    dicionario = {'1':'Pedra', '2':'Papel', '3':'Tesoura'}\n",
    "    return dicionario"
   ]
  },
  {
   "cell_type": "code",
   "execution_count": 363,
   "metadata": {},
   "outputs": [],
   "source": [
    "def validacao(escolhas):\n",
    "    \n",
    "    gabarito = {'Pedra-Pedra': 0, 'Pedra-Papel': 2,'Pedra-Tesoura': 1,'Papel-Pedra': 1,'Papel-Papel': 0 ,'Papel-Tesoura': 2,'Tesoura-Pedra': 2, 'Tesoura-Papel': 1, 'Tesoura-Tesoura': 0}\n",
    "    \n",
    "    combinacao = escolhas[0] + '-' + escolhas[1]\n",
    "    \n",
    "    resultado = gabarito[combinacao]\n",
    "\n",
    "    return resultado"
   ]
  },
  {
   "cell_type": "code",
   "execution_count": 364,
   "metadata": {},
   "outputs": [],
   "source": [
    "def joguinho_matheus():\n",
    "    \n",
    "    from IPython.display import clear_output\n",
    "\n",
    "    jogadores = boas_vindas() # mensagem de boas vindas\n",
    "    \n",
    "    opcoes = opcoes_de_escolha() # opcoes de escolha\n",
    "    \n",
    "    escolhas = [None]*2 # lista vazia\n",
    "    escolhas[0] = escolha_opcao(jogadores[0], opcoes) # escolha do primeiro jogador\n",
    "    clear_output()\n",
    "    \n",
    "    escolhas[1] = escolha_opcao(jogadores[1], opcoes) # escolha do segundo jogador\n",
    "    clear_output()\n",
    "    \n",
    "    resultado = validacao(escolhas) #validacao das opcoes\n",
    "    \n",
    "    print(f'Opcoes escolhidas: \\n > {jogadores[0]}: {escolhas[0]} \\n > {jogadores[1]}: {escolhas[1]} \\n')\n",
    "    if resultado != 0:\n",
    "        print(f'O Jogador(a) {jogadores[resultado-1]} ganhou! PARABENS!')\n",
    "    else:\n",
    "        print('EMPATE!')\n",
    "        "
   ]
  },
  {
   "cell_type": "code",
   "execution_count": 365,
   "metadata": {},
   "outputs": [
    {
     "name": "stdout",
     "output_type": "stream",
     "text": [
      "Opcoes escolhidas: \n",
      " > Matheus: Papel \n",
      " > Bruna: Tesoura \n",
      "\n",
      "O Jogador(a) Bruna ganhou! PARABENS!\n"
     ]
    }
   ],
   "source": [
    "joguinho_matheus()"
   ]
  }
 ],
 "metadata": {
  "kernelspec": {
   "display_name": "Python 3",
   "language": "python",
   "name": "python3"
  },
  "language_info": {
   "codemirror_mode": {
    "name": "ipython",
    "version": 3
   },
   "file_extension": ".py",
   "mimetype": "text/x-python",
   "name": "python",
   "nbconvert_exporter": "python",
   "pygments_lexer": "ipython3",
   "version": "3.7.6"
  }
 },
 "nbformat": 4,
 "nbformat_minor": 4
}
