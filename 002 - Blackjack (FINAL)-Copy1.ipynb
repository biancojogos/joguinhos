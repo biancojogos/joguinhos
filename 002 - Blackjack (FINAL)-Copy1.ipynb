{
 "cells": [
  {
   "cell_type": "markdown",
   "metadata": {},
   "source": [
    "# SEGUNDO JOGO: BLACKJACK - 19.04.20¶"
   ]
  },
  {
   "cell_type": "markdown",
   "metadata": {},
   "source": [
    "## Logica:\n",
    "\n",
    "1) Baralho <br />\n",
    "2) embaralhar <br />\n",
    "3) valor da cartas <br />\n",
    "4) valor da mao <br />\n",
    "5) rodada (jogador) <br />\n",
    "6) rodada (dealer)<br />\n",
    "7) valida (jogador) <br />\n",
    "8) valida (dealer) <br />\n",
    "9) Jogo <br />"
   ]
  },
  {
   "cell_type": "code",
   "execution_count": 4,
   "metadata": {},
   "outputs": [],
   "source": [
    "def baralho(): # Define o baralho\n",
    "    \n",
    "    cartas = ['A', '2', '3', '4', '5', '6', '7', '8', '9', '10', 'J', 'Q', 'K'] # Cartas por naipe\n",
    "    naipes = [u\"\\u2663\", u\"\\u2665\", u\"\\u2660\", u\"\\u2666\"] # Naipes em Unicode\n",
    "\n",
    "    deck = [(j + ' ' + k) for j in cartas for k in naipes] # Todas as cartas do baralho\n",
    "    \n",
    "    return deck"
   ]
  },
  {
   "cell_type": "code",
   "execution_count": 5,
   "metadata": {},
   "outputs": [],
   "source": [
    "def embaralhar(algo): # Somente embaralha\n",
    "    \n",
    "    import random\n",
    "    random.shuffle(algo)"
   ]
  },
  {
   "cell_type": "code",
   "execution_count": 6,
   "metadata": {},
   "outputs": [],
   "source": [
    "def valor_das_cartas(carta):\n",
    "    valores = {'A': 1, '2': 2,'3': 3,'4': 4,'5': 5 ,'6': 6,'7': 7, '8': 8, '9': 9, '10': 10, 'J': 10, 'Q': 10, 'K': 10}\n",
    "    \n",
    "    # Tratar valor 11 do As segregado\n",
    "    \n",
    "    return valores[carta]"
   ]
  },
  {
   "cell_type": "code",
   "execution_count": 7,
   "metadata": {},
   "outputs": [],
   "source": [
    "def valor_da_mao(lista):\n",
    "    \n",
    "    saldo = 0 # Saldo zerado\n",
    "    lista = [lista[k][0:-2] for k in range(0,len(lista))] # Removendo os naipes\n",
    "        \n",
    "    numero_de_ases = lista.count('A') # Contar numero de Ases\n",
    "    for a in range(0,numero_de_ases): # Remover os Ases\n",
    "        lista.remove('A')    \n",
    "        \n",
    "    for carta in lista:\n",
    "        saldo += valor_das_cartas(carta)\n",
    "        \n",
    "    opcao_de_saldo = [saldo + numero_de_ases + 10*k for k in range(0,numero_de_ases+1) if saldo + numero_de_ases + 10*k <= 21]\n",
    "\n",
    "    return opcao_de_saldo"
   ]
  },
  {
   "cell_type": "code",
   "execution_count": 8,
   "metadata": {},
   "outputs": [],
   "source": [
    "def validar_21(saldos_possiveis):\n",
    "    if len(saldos_possiveis) == 0:\n",
    "        return 'n'\n",
    "    else:\n",
    "        if 21 in saldos_possiveis:\n",
    "            return 's'\n",
    "        else:\n",
    "            return [True, max(saldos_possiveis)]"
   ]
  },
  {
   "cell_type": "code",
   "execution_count": 9,
   "metadata": {},
   "outputs": [],
   "source": [
    "def rodada(sobra_do_baralho): \n",
    "    from IPython.display import clear_output\n",
    "    import time \n",
    "    \n",
    "    global valor_da_mao # para nao utilizacao como local variable\n",
    "    \n",
    "    maos = []\n",
    "    maos.append(sobra_do_baralho[0]) # Primeira carta\n",
    "    sobra_do_baralho.pop(0) # Retirando a carta ja escolhida do baralho\n",
    "    \n",
    "    saldo_em_maos = valor_da_mao(maos) # Valor da primeira carta\n",
    "    \n",
    "    \n",
    "    while len(sobra_do_baralho)>0 and validar_21(saldo_em_maos)[0] == True: # enquanto o baralho nao acaba e nao estourou\n",
    "        \n",
    "        clear_output() # Limpando tela para mostrar a mao acumulada depois\n",
    "        \n",
    "        print(f'Sua mao: {maos}. Suas opcoes de saldo: {saldo_em_maos}')\n",
    "        \n",
    "        time.sleep(1) # delay para sempre imprimir antes de pedir input\n",
    "\n",
    "        jogar = input('Continuar? Digite qlqr coisa: ')\n",
    "        \n",
    "        if jogar != '': # Caso o jogador queira continuar\n",
    "            maos.append(sobra_do_baralho[0]) # Mao acumulada\n",
    "            sobra_do_baralho.pop(0) # Retirando a carta ja escolhida do baralho\n",
    "            saldo_em_maos = valor_da_mao(maos) # Saldo da Mao Acumulada\n",
    "                               \n",
    "        else:\n",
    "            clear_output() # Limpando tela para mostrar a mao acumulada depois\n",
    "            print(f'Ok, sua jogada esta encerrada! Com uma mao de {maos} seu saldo eh de {max(saldo_em_maos)}.') # Mao acumulada ao finalizar\n",
    "            return validar_21(saldo_em_maos)\n",
    "        \n",
    "    clear_output() # Limpando tela para mostrar a mao acumulada depois\n",
    "    print(f'Sua mao: {maos}.')\n",
    "    return validar_21(saldo_em_maos) # Retorna a mao acumulada"
   ]
  },
  {
   "cell_type": "code",
   "execution_count": 10,
   "metadata": {},
   "outputs": [],
   "source": [
    "def validar_dealer(saldos_possiveis, resultado_do_player):\n",
    "    if len(saldos_possiveis) == 0:\n",
    "        return 'n'\n",
    "    else:\n",
    "        if max(saldos_possiveis) > resultado_do_player:\n",
    "            return 's'\n",
    "        else:\n",
    "            return True"
   ]
  },
  {
   "cell_type": "code",
   "execution_count": 11,
   "metadata": {},
   "outputs": [],
   "source": [
    "def rodada_do_dealer(sobra_do_baralho, resultado_do_player): \n",
    "    from IPython.display import clear_output\n",
    "    import time\n",
    "    \n",
    "    global valor_da_mao # para nao utilizacao como local variable\n",
    "    \n",
    "    dealer = []\n",
    "    dealer.append(sobra_do_baralho[0]) # Primeira carta\n",
    "    sobra_do_baralho.pop(0) # Retirando a carta ja escolhida do baralho\n",
    "    \n",
    "    saldo_do_dealer = valor_da_mao(dealer) # Valor da primeira carta\n",
    "    #print(saldo_do_dealer)\n",
    "    #print(resultado_do_player)\n",
    "    #print(validar_dealer(saldo_do_dealer,resultado_do_player))\n",
    "    \n",
    "    while len(sobra_do_baralho)>0 and validar_dealer(saldo_do_dealer,resultado_do_player) == True: # enquanto o baralho nao acaba e nao ganhou\n",
    "                \n",
    "        print(f'Mao do Dealer: {dealer}. Saldo do Dealer: {saldo_do_dealer}')\n",
    "        print(f'Dealer deseja mais uma carta...')\n",
    "        \n",
    "        time.sleep(3) # delay para sempre imprimir antes de pedir input\n",
    "        \n",
    "        dealer.append(sobra_do_baralho[0]) # Mao acumulada\n",
    "        sobra_do_baralho.pop(0) # Retirando a carta ja escolhida do baralho\n",
    "        saldo_do_dealer = valor_da_mao(dealer) # Saldo da Mao Acumulada\n",
    "    \n",
    "    print(f'Mao do Dealer: {dealer}. Saldo do Dealer: {saldo_do_dealer}')\n",
    "    return validar_dealer(saldo_do_dealer, resultado_do_player) # Retorna a mao acumulada"
   ]
  },
  {
   "cell_type": "code",
   "execution_count": 12,
   "metadata": {},
   "outputs": [],
   "source": [
    "def blackjack():\n",
    "        \n",
    "    import time\n",
    "    \n",
    "    deck = baralho()\n",
    "    embaralhar(deck)\n",
    "    \n",
    "    # rodada(deck)\n",
    "    \n",
    "    resultado_do_player = rodada(deck)\n",
    "\n",
    "    if resultado_do_player[0] == 's':\n",
    "        return 'Parabens, voce atingiu 21 pontos e ganhou a rodada!'\n",
    "    else:\n",
    "        if resultado_do_player[0] == 'n':\n",
    "            return 'Ops, voce perdeu! Seu saldo eh superior a 21 pontos'\n",
    "        else:\n",
    "            resultado_final = rodada_do_dealer(deck,resultado_do_player[1]) #CONTINUAR\n",
    "    \n",
    "    time.sleep(3)\n",
    "    \n",
    "    if resultado_final == 'n':\n",
    "        return 'Parabens, o Dealer nao conseguiu um saldo maior que o seu e voce ganhou a rodada!!'\n",
    "    else:\n",
    "        if resultado_final == 's':\n",
    "            return 'Ops, voce perdeu! O saldo do Dealer eh maior que o seu!'\n",
    "    "
   ]
  },
  {
   "cell_type": "code",
   "execution_count": 13,
   "metadata": {
    "scrolled": true
   },
   "outputs": [
    {
     "name": "stdout",
     "output_type": "stream",
     "text": [
      "Ok, sua jogada esta encerrada! Com uma mao de ['7 ♥', 'Q ♠'] seu saldo eh de 17.\n",
      "Mao do Dealer: ['3 ♥']. Saldo do Dealer: [3]\n",
      "Dealer deseja mais uma carta...\n",
      "Mao do Dealer: ['3 ♥', '6 ♦']. Saldo do Dealer: [9]\n",
      "Dealer deseja mais uma carta...\n",
      "Mao do Dealer: ['3 ♥', '6 ♦', '2 ♠']. Saldo do Dealer: [11]\n",
      "Dealer deseja mais uma carta...\n",
      "Mao do Dealer: ['3 ♥', '6 ♦', '2 ♠', '10 ♠']. Saldo do Dealer: [21]\n"
     ]
    },
    {
     "data": {
      "text/plain": [
       "'Ops, voce perdeu! O saldo do Dealer eh maior que o seu!'"
      ]
     },
     "execution_count": 13,
     "metadata": {},
     "output_type": "execute_result"
    }
   ],
   "source": [
    "blackjack()"
   ]
  }
 ],
 "metadata": {
  "kernelspec": {
   "display_name": "Python 3",
   "language": "python",
   "name": "python3"
  },
  "language_info": {
   "codemirror_mode": {
    "name": "ipython",
    "version": 3
   },
   "file_extension": ".py",
   "mimetype": "text/x-python",
   "name": "python",
   "nbconvert_exporter": "python",
   "pygments_lexer": "ipython3",
   "version": "3.7.6"
  }
 },
 "nbformat": 4,
 "nbformat_minor": 4
}
